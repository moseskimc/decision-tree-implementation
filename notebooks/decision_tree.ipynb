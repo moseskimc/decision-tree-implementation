{
  "cells": [
    {
      "cell_type": "markdown",
      "metadata": {
        "id": "Z1-L8rrX5kbp"
      },
      "source": [
        "## Setup"
      ]
    },
    {
      "cell_type": "code",
      "execution_count": 1,
      "metadata": {
        "id": "LRIx228mDuhi"
      },
      "outputs": [],
      "source": [
        "import os\n",
        "import itertools\n",
        "\n",
        "import pandas as pd\n",
        "import numpy as np"
      ]
    },
    {
      "cell_type": "markdown",
      "metadata": {
        "id": "QQ_MnZ0T5fDI"
      },
      "source": [
        "## Decision Trees"
      ]
    },
    {
      "cell_type": "markdown",
      "metadata": {
        "id": "u6Fx66ZmC6Gb"
      },
      "source": [
        "We will use obesity data from kaggle; you may access it by clicking on this download [link](https://www.kaggle.com/datasets/yersever/500-person-gender-height-weight-bodymassindex?resource=download) if you would wish to see context (make sure you have an account with kaggle). If you don't have a kaggle account, I have uploaded the dataset in the root directory lecture for your convenience.\n",
        "\n",
        "\n",
        "In our particular example, we will simplify our task to a binary classification."
      ]
    },
    {
      "cell_type": "code",
      "execution_count": 2,
      "metadata": {
        "colab": {
          "base_uri": "https://localhost:8080/",
          "height": 35
        },
        "id": "3Qv8-s2M5VLY",
        "outputId": "3e364942-af87-489b-de61-3879f61c49cf"
      },
      "outputs": [
        {
          "data": {
            "text/plain": [
              "'../sample/500_Person_Gender_Height_Weight_Index.csv'"
            ]
          },
          "execution_count": 2,
          "metadata": {},
          "output_type": "execute_result"
        }
      ],
      "source": [
        "# dir path\n",
        "path_to_dir = \"../sample\"\n",
        "filename = \"500_Person_Gender_Height_Weight_Index.csv\"\n",
        "\n",
        "filepath = os.path.join(path_to_dir, filename)\n",
        "filepath"
      ]
    },
    {
      "cell_type": "code",
      "execution_count": 3,
      "metadata": {
        "id": "xM_I8dIHDv_o"
      },
      "outputs": [],
      "source": [
        "df = pd.read_csv(filepath)"
      ]
    },
    {
      "cell_type": "code",
      "execution_count": 4,
      "metadata": {
        "colab": {
          "base_uri": "https://localhost:8080/",
          "height": 206
        },
        "id": "MvjEGNCwEfyR",
        "outputId": "bde05150-2357-4d09-ce6f-656802b635b7"
      },
      "outputs": [
        {
          "data": {
            "text/html": [
              "<div>\n",
              "<style scoped>\n",
              "    .dataframe tbody tr th:only-of-type {\n",
              "        vertical-align: middle;\n",
              "    }\n",
              "\n",
              "    .dataframe tbody tr th {\n",
              "        vertical-align: top;\n",
              "    }\n",
              "\n",
              "    .dataframe thead th {\n",
              "        text-align: right;\n",
              "    }\n",
              "</style>\n",
              "<table border=\"1\" class=\"dataframe\">\n",
              "  <thead>\n",
              "    <tr style=\"text-align: right;\">\n",
              "      <th></th>\n",
              "      <th>Gender</th>\n",
              "      <th>Height</th>\n",
              "      <th>Weight</th>\n",
              "      <th>Index</th>\n",
              "    </tr>\n",
              "  </thead>\n",
              "  <tbody>\n",
              "    <tr>\n",
              "      <th>0</th>\n",
              "      <td>Male</td>\n",
              "      <td>174</td>\n",
              "      <td>96</td>\n",
              "      <td>4</td>\n",
              "    </tr>\n",
              "    <tr>\n",
              "      <th>1</th>\n",
              "      <td>Male</td>\n",
              "      <td>189</td>\n",
              "      <td>87</td>\n",
              "      <td>2</td>\n",
              "    </tr>\n",
              "    <tr>\n",
              "      <th>2</th>\n",
              "      <td>Female</td>\n",
              "      <td>185</td>\n",
              "      <td>110</td>\n",
              "      <td>4</td>\n",
              "    </tr>\n",
              "    <tr>\n",
              "      <th>3</th>\n",
              "      <td>Female</td>\n",
              "      <td>195</td>\n",
              "      <td>104</td>\n",
              "      <td>3</td>\n",
              "    </tr>\n",
              "    <tr>\n",
              "      <th>4</th>\n",
              "      <td>Male</td>\n",
              "      <td>149</td>\n",
              "      <td>61</td>\n",
              "      <td>3</td>\n",
              "    </tr>\n",
              "  </tbody>\n",
              "</table>\n",
              "</div>"
            ],
            "text/plain": [
              "   Gender  Height  Weight  Index\n",
              "0    Male     174      96      4\n",
              "1    Male     189      87      2\n",
              "2  Female     185     110      4\n",
              "3  Female     195     104      3\n",
              "4    Male     149      61      3"
            ]
          },
          "execution_count": 4,
          "metadata": {},
          "output_type": "execute_result"
        }
      ],
      "source": [
        "df.head()"
      ]
    },
    {
      "cell_type": "code",
      "execution_count": 5,
      "metadata": {
        "colab": {
          "base_uri": "https://localhost:8080/",
          "height": 300
        },
        "id": "0mB3puJWEiD9",
        "outputId": "399116ea-31a5-4801-881f-b05218ea1c12"
      },
      "outputs": [
        {
          "data": {
            "text/html": [
              "<div>\n",
              "<style scoped>\n",
              "    .dataframe tbody tr th:only-of-type {\n",
              "        vertical-align: middle;\n",
              "    }\n",
              "\n",
              "    .dataframe tbody tr th {\n",
              "        vertical-align: top;\n",
              "    }\n",
              "\n",
              "    .dataframe thead th {\n",
              "        text-align: right;\n",
              "    }\n",
              "</style>\n",
              "<table border=\"1\" class=\"dataframe\">\n",
              "  <thead>\n",
              "    <tr style=\"text-align: right;\">\n",
              "      <th></th>\n",
              "      <th>Height</th>\n",
              "      <th>Weight</th>\n",
              "      <th>Index</th>\n",
              "    </tr>\n",
              "  </thead>\n",
              "  <tbody>\n",
              "    <tr>\n",
              "      <th>count</th>\n",
              "      <td>500.000000</td>\n",
              "      <td>500.000000</td>\n",
              "      <td>500.000000</td>\n",
              "    </tr>\n",
              "    <tr>\n",
              "      <th>mean</th>\n",
              "      <td>169.944000</td>\n",
              "      <td>106.000000</td>\n",
              "      <td>3.748000</td>\n",
              "    </tr>\n",
              "    <tr>\n",
              "      <th>std</th>\n",
              "      <td>16.375261</td>\n",
              "      <td>32.382607</td>\n",
              "      <td>1.355053</td>\n",
              "    </tr>\n",
              "    <tr>\n",
              "      <th>min</th>\n",
              "      <td>140.000000</td>\n",
              "      <td>50.000000</td>\n",
              "      <td>0.000000</td>\n",
              "    </tr>\n",
              "    <tr>\n",
              "      <th>25%</th>\n",
              "      <td>156.000000</td>\n",
              "      <td>80.000000</td>\n",
              "      <td>3.000000</td>\n",
              "    </tr>\n",
              "    <tr>\n",
              "      <th>50%</th>\n",
              "      <td>170.500000</td>\n",
              "      <td>106.000000</td>\n",
              "      <td>4.000000</td>\n",
              "    </tr>\n",
              "    <tr>\n",
              "      <th>75%</th>\n",
              "      <td>184.000000</td>\n",
              "      <td>136.000000</td>\n",
              "      <td>5.000000</td>\n",
              "    </tr>\n",
              "    <tr>\n",
              "      <th>max</th>\n",
              "      <td>199.000000</td>\n",
              "      <td>160.000000</td>\n",
              "      <td>5.000000</td>\n",
              "    </tr>\n",
              "  </tbody>\n",
              "</table>\n",
              "</div>"
            ],
            "text/plain": [
              "           Height      Weight       Index\n",
              "count  500.000000  500.000000  500.000000\n",
              "mean   169.944000  106.000000    3.748000\n",
              "std     16.375261   32.382607    1.355053\n",
              "min    140.000000   50.000000    0.000000\n",
              "25%    156.000000   80.000000    3.000000\n",
              "50%    170.500000  106.000000    4.000000\n",
              "75%    184.000000  136.000000    5.000000\n",
              "max    199.000000  160.000000    5.000000"
            ]
          },
          "execution_count": 5,
          "metadata": {},
          "output_type": "execute_result"
        }
      ],
      "source": [
        "# some descriptive stats for each field\n",
        "df.describe()"
      ]
    },
    {
      "cell_type": "markdown",
      "metadata": {
        "id": "yJaZCVjbJjoo"
      },
      "source": [
        "### Target variable"
      ]
    },
    {
      "cell_type": "code",
      "execution_count": 6,
      "metadata": {
        "colab": {
          "base_uri": "https://localhost:8080/",
          "height": 363
        },
        "id": "IPs081f6EjAh",
        "outputId": "2cea9fac-d9c6-4e94-f2df-c1e80e880c24"
      },
      "outputs": [
        {
          "data": {
            "text/html": [
              "<div>\n",
              "<style scoped>\n",
              "    .dataframe tbody tr th:only-of-type {\n",
              "        vertical-align: middle;\n",
              "    }\n",
              "\n",
              "    .dataframe tbody tr th {\n",
              "        vertical-align: top;\n",
              "    }\n",
              "\n",
              "    .dataframe thead th {\n",
              "        text-align: right;\n",
              "    }\n",
              "</style>\n",
              "<table border=\"1\" class=\"dataframe\">\n",
              "  <thead>\n",
              "    <tr style=\"text-align: right;\">\n",
              "      <th></th>\n",
              "      <th>Gender</th>\n",
              "      <th>Height</th>\n",
              "      <th>Weight</th>\n",
              "      <th>Index</th>\n",
              "      <th>is_obese</th>\n",
              "    </tr>\n",
              "  </thead>\n",
              "  <tbody>\n",
              "    <tr>\n",
              "      <th>322</th>\n",
              "      <td>Male</td>\n",
              "      <td>153</td>\n",
              "      <td>104</td>\n",
              "      <td>5</td>\n",
              "      <td>1</td>\n",
              "    </tr>\n",
              "    <tr>\n",
              "      <th>201</th>\n",
              "      <td>Male</td>\n",
              "      <td>179</td>\n",
              "      <td>93</td>\n",
              "      <td>3</td>\n",
              "      <td>0</td>\n",
              "    </tr>\n",
              "    <tr>\n",
              "      <th>356</th>\n",
              "      <td>Female</td>\n",
              "      <td>189</td>\n",
              "      <td>124</td>\n",
              "      <td>4</td>\n",
              "      <td>1</td>\n",
              "    </tr>\n",
              "    <tr>\n",
              "      <th>329</th>\n",
              "      <td>Female</td>\n",
              "      <td>185</td>\n",
              "      <td>102</td>\n",
              "      <td>3</td>\n",
              "      <td>0</td>\n",
              "    </tr>\n",
              "    <tr>\n",
              "      <th>182</th>\n",
              "      <td>Male</td>\n",
              "      <td>162</td>\n",
              "      <td>97</td>\n",
              "      <td>4</td>\n",
              "      <td>1</td>\n",
              "    </tr>\n",
              "    <tr>\n",
              "      <th>213</th>\n",
              "      <td>Female</td>\n",
              "      <td>196</td>\n",
              "      <td>159</td>\n",
              "      <td>5</td>\n",
              "      <td>1</td>\n",
              "    </tr>\n",
              "    <tr>\n",
              "      <th>465</th>\n",
              "      <td>Male</td>\n",
              "      <td>158</td>\n",
              "      <td>127</td>\n",
              "      <td>5</td>\n",
              "      <td>1</td>\n",
              "    </tr>\n",
              "    <tr>\n",
              "      <th>464</th>\n",
              "      <td>Female</td>\n",
              "      <td>181</td>\n",
              "      <td>80</td>\n",
              "      <td>2</td>\n",
              "      <td>0</td>\n",
              "    </tr>\n",
              "    <tr>\n",
              "      <th>75</th>\n",
              "      <td>Female</td>\n",
              "      <td>197</td>\n",
              "      <td>154</td>\n",
              "      <td>4</td>\n",
              "      <td>1</td>\n",
              "    </tr>\n",
              "    <tr>\n",
              "      <th>221</th>\n",
              "      <td>Male</td>\n",
              "      <td>183</td>\n",
              "      <td>138</td>\n",
              "      <td>5</td>\n",
              "      <td>1</td>\n",
              "    </tr>\n",
              "  </tbody>\n",
              "</table>\n",
              "</div>"
            ],
            "text/plain": [
              "     Gender  Height  Weight  Index  is_obese\n",
              "322    Male     153     104      5         1\n",
              "201    Male     179      93      3         0\n",
              "356  Female     189     124      4         1\n",
              "329  Female     185     102      3         0\n",
              "182    Male     162      97      4         1\n",
              "213  Female     196     159      5         1\n",
              "465    Male     158     127      5         1\n",
              "464  Female     181      80      2         0\n",
              "75   Female     197     154      4         1\n",
              "221    Male     183     138      5         1"
            ]
          },
          "execution_count": 6,
          "metadata": {},
          "output_type": "execute_result"
        }
      ],
      "source": [
        "# obese\n",
        "\n",
        "df.loc[:, \"is_obese\"] = (df[\"Index\"] >= 4).astype(int)\n",
        "df.sample(10)"
      ]
    },
    {
      "cell_type": "code",
      "execution_count": 7,
      "metadata": {
        "id": "SQuwlb8wJ1FL"
      },
      "outputs": [],
      "source": [
        "# we drop the Index column\n",
        "\n",
        "df.drop(\"Index\", axis=1, inplace=True)"
      ]
    },
    {
      "cell_type": "markdown",
      "metadata": {
        "id": "_GsJX-wRKkl5"
      },
      "source": [
        "### Gini impurity and entropy"
      ]
    },
    {
      "cell_type": "markdown",
      "metadata": {
        "id": "IWvvpr1EKwhU"
      },
      "source": [
        "Impurity measures the degree to which a partition or cut (splitting or branching) will classify or predict the target variable **incorrectly**. In the case of binary classification, which is our running example, that would measure whether the target values 0 and 1 are classified correctly.\n",
        "\n",
        "In this sense, a zero impure split or 100 percent split will get all our predictions correct. The smaller the impurity measure, the more important the variable (where the split happens) is.\n"
      ]
    },
    {
      "cell_type": "code",
      "execution_count": 8,
      "metadata": {
        "colab": {
          "base_uri": "https://localhost:8080/"
        },
        "id": "ThK_UGraKOef",
        "outputId": "e6691709-600f-4b88-96ec-6ec4f03bfeef"
      },
      "outputs": [
        {
          "name": "stdout",
          "output_type": "stream",
          "text": [
            "Partition 1 incorrect predictions: 18\n",
            "Partition 2 incorrect predictions: 90\n",
            "\n",
            "The second parition is more impure!\n"
          ]
        }
      ],
      "source": [
        "# impurity\n",
        "\n",
        "# in this example we look at the following partitions\n",
        "# partition 1: Weight at 100 kg (anything >= 100 should be marked as obese)\n",
        "\n",
        "partition1 = df[\"Weight\"] >= 100  # this is a mask\n",
        "incorrect_label = df[\"is_obese\"] == 0  # also a mask\n",
        "\n",
        "partition1_obese_count = df[partition1 & incorrect_label].shape[0]\n",
        "\n",
        "\n",
        "# partition 2: Weight at 70 kg (similar to above)\n",
        "partition2 = df[\"Weight\"] >= 70\n",
        "\n",
        "partition2_obese_count = df[partition2 & incorrect_label].shape[0]\n",
        "\n",
        "print(f\"Partition 1 incorrect predictions: {partition1_obese_count}\")\n",
        "print(f\"Partition 2 incorrect predictions: {partition2_obese_count}\")\n",
        "\n",
        "print(\"\\nThe second parition is more impure!\")"
      ]
    },
    {
      "cell_type": "markdown",
      "metadata": {
        "id": "ZElMwVv4PelS"
      },
      "source": [
        "If we wish to compute the overall impurity for all cuts, we consider the **Gini** index. This is our cost function.\n",
        "\n",
        "$$\\text{Gini} = 1 - \\sum_{i=1}^n p_i^2$$"
      ]
    },
    {
      "cell_type": "markdown",
      "metadata": {
        "id": "sWUP82HhQi-N"
      },
      "source": [
        "Here $p_i$ is the probability of a class taking on a specific value.\n",
        "\n",
        "It is the probability of misclassifying a certain feature.\n",
        "\n",
        "One way to think about of the cost function above is to consider a fair and unfair coin random variable (a binary class label). If we have a fair coin with probability 0.5 (landing heads) then the index will be 0.5; it's as impure as we can get. But if we have a one-sided coin, then the index is 0. So there is no uncertainty or entropy. To describe uncertainty, we often say it's a flip of a coin! Yes indeed 0.5 is a flip of a fair coin."
      ]
    },
    {
      "cell_type": "code",
      "execution_count": 9,
      "metadata": {
        "colab": {
          "base_uri": "https://localhost:8080/"
        },
        "id": "PlaVsZu9OrX1",
        "outputId": "d2fee600-fba1-4ca1-9372-f1aeb1ae6ae7"
      },
      "outputs": [
        {
          "data": {
            "text/plain": [
              "0.4998"
            ]
          },
          "execution_count": 9,
          "metadata": {},
          "output_type": "execute_result"
        }
      ],
      "source": [
        "# we implement the gini index as follows\n",
        "\n",
        "def get_gini_impurity(y):\n",
        "    \"\"\"Compoute index of classification\n",
        "\n",
        "        Args:\n",
        "            y (pd.Series): classifcation values\n",
        "    \"\"\"\n",
        "\n",
        "    # first check we have a series\n",
        "    # if not throw an exception\n",
        "    if not isinstance(y, pd.Series):\n",
        "        raise Exception(\"Input must be a pd.Series object\")\n",
        "\n",
        "    # calculate individual probabilities (i.e. P_i)\n",
        "    p = y.value_counts() / y.shape[0]\n",
        "\n",
        "    # gini impurity\n",
        "    gini = 1 - np.sum(p**2)\n",
        "\n",
        "    return gini\n",
        "\n",
        "\n",
        "\n",
        "# example: Gender\n",
        "get_gini_impurity(df[\"Gender\"])\n",
        "\n",
        "# NOTE: if our feature has more than one unique value\n",
        "#       impurity will range between 0 and 1"
      ]
    },
    {
      "cell_type": "markdown",
      "metadata": {
        "id": "-KsISkOjWP0R"
      },
      "source": [
        "### Entropy"
      ]
    },
    {
      "cell_type": "markdown",
      "metadata": {
        "id": "qPrQPYhTWaTl"
      },
      "source": [
        "Similarly, entropy measures impurity by considering the uncertainty of a certain outcome. Entropy, regardless of the possible number of unique values a class variable can take on, ranges between 0 and 1. The greater the entropy, the more uncertain the variable outcome is.\n",
        "\n",
        "$$\\text{Entropy} = - \\sum_{i=1}^n p_i \\log_2 p_i $$\n",
        "\n"
      ]
    },
    {
      "cell_type": "code",
      "execution_count": 10,
      "metadata": {
        "colab": {
          "base_uri": "https://localhost:8080/"
        },
        "id": "l4pejQRaTsOJ",
        "outputId": "67967e61-d5f5-45dd-e677-5b98ed80f056"
      },
      "outputs": [
        {
          "data": {
            "text/plain": [
              "0.9997114388674198"
            ]
          },
          "execution_count": 10,
          "metadata": {},
          "output_type": "execute_result"
        }
      ],
      "source": [
        "# entropy implementation\n",
        "\n",
        "def get_entropy(y):\n",
        "    \"\"\"Compute entropy given series y\n",
        "    \"\"\"\n",
        "\n",
        "    # first check we have a series\n",
        "    # if not throw an exception\n",
        "    if not isinstance(y, pd.Series):\n",
        "        raise Exception(\"Input must be a pd.Series object\")\n",
        "\n",
        "    # calculate individual probabilities (i.e. P_i)\n",
        "    p = y.value_counts() / y.shape[0]\n",
        "\n",
        "    # entropy\n",
        "    epsilon = 1e-9  # small number\n",
        "                    # to avoid taking log of zero\n",
        "    entropy = np.sum(\n",
        "        -p * np.log2(p + epsilon)  # broadcast\n",
        "    )\n",
        "\n",
        "    return entropy\n",
        "\n",
        "# example\n",
        "get_entropy(df[\"Gender\"])"
      ]
    },
    {
      "cell_type": "markdown",
      "metadata": {
        "id": "AFzH5zWvX6zj"
      },
      "source": [
        "### Which cuts?"
      ]
    },
    {
      "cell_type": "markdown",
      "metadata": {
        "id": "Nc8iidkcaCTy"
      },
      "source": [
        "So how do we find the optimal cuts that give us the lowest entropy or gini impurity. We rephrase this question in terms of impurity loss. If we experience a decrease in uncertainty, then the cut has improved.\n",
        "\n",
        "$$IG = \\text{Impurity} (\\text{parent})  - \\sum_{\\text{child}} \\text{prop}_{\\text{child}} \\times \\text{Impurity}(\\text{child})$$ "
      ]
    },
    {
      "cell_type": "markdown",
      "metadata": {
        "id": "py4qHiQ_dpHp"
      },
      "source": [
        "A few comments. For classification tasks, impurity function chosen is entropy. While, for regression tasks, the function is variance."
      ]
    },
    {
      "cell_type": "markdown",
      "metadata": {
        "id": "otF78B7jYJeP"
      },
      "source": [
        "##### Information Gain"
      ]
    },
    {
      "cell_type": "code",
      "execution_count": 11,
      "metadata": {
        "colab": {
          "base_uri": "https://localhost:8080/"
        },
        "id": "YIAWGZgXXsQn",
        "outputId": "3d584d92-756e-43c6-8a3c-0ccbd9166abe"
      },
      "outputs": [
        {
          "data": {
            "text/plain": [
              "0.0005506911187600494"
            ]
          },
          "execution_count": 11,
          "metadata": {},
          "output_type": "execute_result"
        }
      ],
      "source": [
        "# implementation\n",
        "\n",
        "# helper function\n",
        "\n",
        "# variance\n",
        "def get_var(y):\n",
        "    \"\"\"Compute variance of random variable\n",
        "\n",
        "        Args:\n",
        "            y (pd.Series): random variable values\n",
        "    \"\"\"\n",
        "\n",
        "    if len(y) == 1: return 0\n",
        "\n",
        "    return y.var()\n",
        "\n",
        "\n",
        "# information gain\n",
        "def get_ig(y, mask, impurity=get_entropy):\n",
        "    \"\"\"Compute IG for a single child split\n",
        "    \"\"\"\n",
        "\n",
        "    prop = sum(mask) / len(mask)\n",
        "\n",
        "    parent_impurity = get_entropy(y)\n",
        "    \n",
        "\n",
        "    # child1_impurity = prop * get_entropy(df[\"is_obese\"][mask])\n",
        "    # child2_impurity = (1 - prop) * get_entropy(df[\"is_obese\"][~mask])\n",
        "\n",
        "\n",
        "    child1_impurity = prop * get_entropy(y[mask])\n",
        "    child2_impurity = (1 - prop) * get_entropy(y[~mask])\n",
        "\n",
        "    ig = parent_impurity - (child1_impurity + child2_impurity)\n",
        "\n",
        "\n",
        "    return ig\n",
        "\n",
        "# example\n",
        "get_ig(df[\"is_obese\"], df[\"Gender\"]==\"Male\")\n"
      ]
    },
    {
      "cell_type": "markdown",
      "metadata": {
        "id": "tz-JPZuXk8MK"
      },
      "source": [
        "##### The best spilt for a variable"
      ]
    },
    {
      "cell_type": "code",
      "execution_count": 12,
      "metadata": {
        "colab": {
          "base_uri": "https://localhost:8080/"
        },
        "id": "5XSS3qAueoiH",
        "outputId": "0ef746e7-2075-40e8-a098-ffedfbfc7b4e"
      },
      "outputs": [
        {
          "data": {
            "text/plain": [
              "[[], ['Male'], ['Female'], ['Male', 'Female']]"
            ]
          },
          "execution_count": 12,
          "metadata": {},
          "output_type": "execute_result"
        }
      ],
      "source": [
        "# numerical values are totally ordered\n",
        "\n",
        "# but for categorical we create masks by inclusion\n",
        "# this means creating all possible combination of subsets\n",
        "\n",
        "\n",
        "def generate_all_subsets(y):\n",
        "    \"\"\"Generate all possible subsets rand var values\n",
        "\n",
        "    Args:\n",
        "        y (pd.Series): random variable\n",
        "    \"\"\"\n",
        "\n",
        "    y_unique = y.unique()\n",
        "\n",
        "    subsets = []\n",
        "\n",
        "    for subset_len in range(0, len(y_unique)+1):\n",
        "        for subset in itertools.combinations(y_unique, subset_len):\n",
        "            subset_list = list(subset)\n",
        "\n",
        "            subsets.append(subset_list)\n",
        "\n",
        "    return subsets\n",
        "\n",
        "\n",
        "# example\n",
        "generate_all_subsets(df[\"Gender\"])   "
      ]
    },
    {
      "cell_type": "code",
      "execution_count": 13,
      "metadata": {
        "colab": {
          "base_uri": "https://localhost:8080/"
        },
        "id": "8JI5_I_-l_px",
        "outputId": "cdcb8cee-7539-4827-930e-73352c32d0dc"
      },
      "outputs": [
        {
          "data": {
            "text/plain": [
              "(0.0005506911187600494, ['Male'], False, True)"
            ]
          },
          "execution_count": 13,
          "metadata": {},
          "output_type": "execute_result"
        }
      ],
      "source": [
        "# max ig split\n",
        "\n",
        "def get_max_ig_split(x, y, impurity=get_entropy):\n",
        "    \"\"\"Compute the mask boundary with greatest information gain\n",
        "    Args:\n",
        "        x (pd.Series): predictor variable\n",
        "        y (pd.Series): target variable\n",
        "        impurity (func): entropy or variance\n",
        "\n",
        "    \"\"\"\n",
        "\n",
        "    is_numeric = True if x.dtypes != \"O\" else False\n",
        "    \n",
        "    ig_values = []\n",
        "    split_values = []\n",
        "\n",
        "\n",
        "    if is_numeric:\n",
        "        options = x.sort_values().unique()[1: ] # we skip the first\n",
        "    # categorical\n",
        "    else:\n",
        "        options = generate_all_subsets(x)\n",
        "\n",
        "    for option in options:\n",
        "        mask = x < option if is_numeric else x.isin(option)\n",
        "\n",
        "        # compute ig\n",
        "        option_ig = get_ig(y, mask, impurity)\n",
        "\n",
        "        ig_values.append(option_ig)\n",
        "        split_values.append(option)\n",
        "    # if there are no results\n",
        "\n",
        "    if not ig_values:\n",
        "        return None, None, None, False\n",
        "\n",
        "    max_ig = max(ig_values)\n",
        "    max_ig_index = ig_values.index(max_ig)\n",
        "    best_split = split_values[max_ig_index]\n",
        "\n",
        "\n",
        "    return max_ig, best_split, is_numeric, True\n",
        "    \n",
        "\n",
        "# example\n",
        "get_max_ig_split(df[\"Gender\"], df[\"is_obese\"])\n"
      ]
    },
    {
      "cell_type": "code",
      "execution_count": 14,
      "metadata": {
        "colab": {
          "base_uri": "https://localhost:8080/",
          "height": 175
        },
        "id": "MZpzlg7HNOGI",
        "outputId": "bff031e3-1895-4074-90a8-29394dfebf6c"
      },
      "outputs": [
        {
          "data": {
            "text/html": [
              "<div>\n",
              "<style scoped>\n",
              "    .dataframe tbody tr th:only-of-type {\n",
              "        vertical-align: middle;\n",
              "    }\n",
              "\n",
              "    .dataframe tbody tr th {\n",
              "        vertical-align: top;\n",
              "    }\n",
              "\n",
              "    .dataframe thead th {\n",
              "        text-align: right;\n",
              "    }\n",
              "</style>\n",
              "<table border=\"1\" class=\"dataframe\">\n",
              "  <thead>\n",
              "    <tr style=\"text-align: right;\">\n",
              "      <th></th>\n",
              "      <th>Gender</th>\n",
              "      <th>Height</th>\n",
              "      <th>Weight</th>\n",
              "    </tr>\n",
              "  </thead>\n",
              "  <tbody>\n",
              "    <tr>\n",
              "      <th>max_ig</th>\n",
              "      <td>0.000551</td>\n",
              "      <td>0.064748</td>\n",
              "      <td>0.382454</td>\n",
              "    </tr>\n",
              "    <tr>\n",
              "      <th>split_val</th>\n",
              "      <td>[Male]</td>\n",
              "      <td>174</td>\n",
              "      <td>103</td>\n",
              "    </tr>\n",
              "    <tr>\n",
              "      <th>is_numeric</th>\n",
              "      <td>False</td>\n",
              "      <td>True</td>\n",
              "      <td>True</td>\n",
              "    </tr>\n",
              "    <tr>\n",
              "      <th>has_ig</th>\n",
              "      <td>True</td>\n",
              "      <td>True</td>\n",
              "      <td>True</td>\n",
              "    </tr>\n",
              "  </tbody>\n",
              "</table>\n",
              "</div>"
            ],
            "text/plain": [
              "              Gender    Height    Weight\n",
              "max_ig      0.000551  0.064748  0.382454\n",
              "split_val     [Male]       174       103\n",
              "is_numeric     False      True      True\n",
              "has_ig          True      True      True"
            ]
          },
          "execution_count": 14,
          "metadata": {},
          "output_type": "execute_result"
        }
      ],
      "source": [
        "ig_df = df.drop(\"is_obese\", axis=1).apply(get_max_ig_split, y=df[\"is_obese\"])\n",
        "\n",
        "ig_df.rename(\n",
        "    index=dict(\n",
        "        zip(\n",
        "            list(range(0,4)), [\"max_ig\", \"split_val\", \"is_numeric\", \"has_ig\"]\n",
        "        )\n",
        "    ), inplace=True\n",
        ")\n",
        "\n",
        "ig_df"
      ]
    },
    {
      "cell_type": "code",
      "execution_count": 15,
      "metadata": {
        "id": "jFowtydEN-oW"
      },
      "outputs": [],
      "source": [
        "# write helper function to get best split\n",
        "# ie predictor with highes information gain\n",
        "\n",
        "def get_best_split(target_label, data):\n",
        "\n",
        "    ig_df = data.drop(\n",
        "        \"is_obese\", axis=1\n",
        "    ).apply(\n",
        "        get_max_ig_split, y=data[target_label]\n",
        "    )\n",
        "\n",
        "    ig_df.rename(\n",
        "        index=dict(\n",
        "            zip(\n",
        "                list(range(0,4)), [\"max_ig\", \"max_ig_index\", \"best_split\", \"has_ig\"]\n",
        "            )\n",
        "        ), inplace=True\n",
        "    )\n",
        "\n",
        "    # first check whether an ig has computed\n",
        "\n",
        "    # take the last row and compute the sum\n",
        "\n",
        "    if sum(ig_df.iloc[-1, :]) == 0: return None, None, None, None\n",
        "\n",
        "    best_feature = max(ig_df)\n",
        "\n",
        "    ig, split_index, split_value = ig_df[best_feature].values[:3]\n",
        "\n",
        "    return best_feature, split_index, ig, split_value\n",
        "\n",
        "\n",
        "def make_split(variable, split_value, data, is_numeric):\n",
        "    \"\"\"Split data given boundary or subset\n",
        "    \"\"\"\n",
        "\n",
        "    if is_numeric:\n",
        "        mask = data[variable] < split_value\n",
        "    else:\n",
        "        mask = data[variable].isin(split_value)\n",
        "\n",
        "    return data[mask], data[~mask]\n",
        "\n",
        "\n",
        "def make_prediction(ser, is_numeric):\n",
        "\n",
        "    if is_numeric: return ser.mean()\n",
        "\n",
        "    return ser.value_counts().idxmax()\n",
        "\n",
        "# # test\n",
        "# get_best_split(\"is_obese\", df)\n",
        "# make_split(\"Weight\", 100, df, True)[1].shape\n",
        "# make_prediction(df[\"Gender\"], False)\n",
        "# df[df.Gender==\"Female\"].shape[0] > df[df.Gender==\"Male\"].shape[0]"
      ]
    },
    {
      "cell_type": "markdown",
      "metadata": {
        "id": "SUpib6i6tzYd"
      },
      "source": [
        "#### Build tree"
      ]
    },
    {
      "cell_type": "markdown",
      "metadata": {
        "id": "sVZrQblEuAGW"
      },
      "source": [
        "We will not consider the full gamut of hyperparemeters we find in sklearn when training decision trees but will include the following: `min_samples_split`, `max_depth`, and `min_information_gain`."
      ]
    },
    {
      "cell_type": "code",
      "execution_count": 16,
      "metadata": {
        "colab": {
          "base_uri": "https://localhost:8080/"
        },
        "id": "ZRAXDfvmrKuT",
        "outputId": "3b3f9aa5-1a06-408a-a596-5c737f2be1bc"
      },
      "outputs": [
        {
          "data": {
            "text/plain": [
              "{'Weight <=  103': [{'Weight <=  66': [0,\n",
              "    {'Weight <=  84': [{'Weight <=  74': [0, {'Weight <=  75': [1, 0]}]},\n",
              "      {'Weight <=  98': [1, 0]}]}]},\n",
              "  1]}"
            ]
          },
          "execution_count": 16,
          "metadata": {},
          "output_type": "execute_result"
        }
      ],
      "source": [
        "# Finally, we are ready to build our decision tree\n",
        "# the output will be a nested dictionary\n",
        "\n",
        "def build_tree(\n",
        "    data,\n",
        "    target_var,\n",
        "    is_target_categorical,\n",
        "    max_depth=None,\n",
        "    min_samples_split=None,\n",
        "    min_information_gain=1e-10,\n",
        "    counter=0,  # once a split happens, depth increases by 1 and max cat checked\n",
        "    max_categories=20\n",
        "):\n",
        "\n",
        "    # check max categories\n",
        "    if counter==0:\n",
        "        types = data.dtypes\n",
        "        check_columns = types[types==\"object\"].index\n",
        "\n",
        "        cat_df = data[check_columns]\n",
        "        unique_val_ser = cat_df.apply(lambda x: len(x.unique()))\n",
        "\n",
        "        if sum(unique_val_ser > max_categories) > 0:\n",
        "            raise Exception(\"Number of categories is too many!\")\n",
        "\n",
        "    # check max depth\n",
        "    if max_depth == None:\n",
        "        depth_cond = True\n",
        "    else: # check counter\n",
        "        depth_cond = True if counter < max_depth else False\n",
        "    \n",
        "    # check min samples\n",
        "    if min_samples_split == None:\n",
        "        sample_cond = True\n",
        "    else:\n",
        "        sample_cond = True if data.shape[0] > min_samples_split else False\n",
        "\n",
        "    \n",
        "    # if depth and min_samples are a check\n",
        "    # check ig condition is met\n",
        "\n",
        "    if depth_cond and sample_cond:\n",
        "        var, split_val, ig, is_numeric = get_best_split(target_var, data)\n",
        "\n",
        "        # check ig condition\n",
        "        if ig is not None and ig >= min_information_gain:\n",
        "            counter += 1 # depth increase\n",
        "            # split data\n",
        "            left, right = make_split(var, split_val, data, is_numeric)\n",
        "\n",
        "            # create a subtree\n",
        "            split_type = \"<=\" if is_numeric else \"in\"\n",
        "            condition = f\"{var} {split_type}  {split_val}\"\n",
        "            subtree = {condition: []}\n",
        "\n",
        "            # find splits/leaves (via recursion)\n",
        "            obese_pos = build_tree(\n",
        "                left,\n",
        "                target_var,\n",
        "                is_target_categorical,\n",
        "                max_depth,\n",
        "                min_samples_split,\n",
        "                min_information_gain,\n",
        "                counter\n",
        "            )\n",
        "\n",
        "            obese_neg = build_tree(\n",
        "                right,\n",
        "                target_var,\n",
        "                is_target_categorical,\n",
        "                max_depth,\n",
        "                min_samples_split,\n",
        "                min_information_gain,\n",
        "                counter\n",
        "            )\n",
        "\n",
        "            # the only time obese_pos equals obese_neg\n",
        "            # is when you have already reached a leaf\n",
        "            # and there is a prediction\n",
        "            if obese_pos == obese_neg: \n",
        "                subtree = obese_pos\n",
        "            # otherwise, we have subtrees\n",
        "            else:\n",
        "                subtree[condition].append(obese_pos)\n",
        "                subtree[condition].append(obese_neg)\n",
        "        # found a leaf\n",
        "        else:\n",
        "            return make_prediction(\n",
        "                data[target_var],\n",
        "                not is_target_categorical\n",
        "            )\n",
        "    # depth or min_samples condition is not met\n",
        "    else:\n",
        "        return make_prediction(\n",
        "                data[target_var],\n",
        "                not is_target_categorical\n",
        "            )\n",
        "\n",
        "    return subtree\n",
        "\n",
        "\n",
        "max_depth = 5\n",
        "min_samples_split = 20\n",
        "min_information_gain  = 1e-5\n",
        "\n",
        "dt = build_tree(\n",
        "    df,\n",
        "    \"is_obese\",\n",
        "    True,\n",
        "    max_depth,\n",
        "    min_samples_split,\n",
        "    min_information_gain\n",
        ")\n",
        "\n",
        "\n",
        "dt"
      ]
    },
    {
      "cell_type": "markdown",
      "metadata": {
        "id": "WVDvKhgY8gNW"
      },
      "source": [
        "#### Evaluate"
      ]
    },
    {
      "cell_type": "code",
      "execution_count": 17,
      "metadata": {
        "id": "VcEy0L5V8kWY"
      },
      "outputs": [],
      "source": [
        "# helper function to predict single observation\n",
        "\n",
        "def pred_obs(observation, tree):\n",
        "    \"\"\"Output tree prediction on observation\n",
        "    \"\"\"\n",
        "\n",
        "    # start at the root\n",
        "    cond = list(tree.keys())[0]\n",
        "\n",
        "    feature, split_type, split_val = cond.split()\n",
        "\n",
        "    if split_type == \"<=\":\n",
        "       # next, we check whether to traverse the further\n",
        "       # check whether observations meets condition\n",
        "       # splitting into subtrees\n",
        "       answer = tree[cond][0] if observation[feature] <= float(split_val) else tree[cond][1]\n",
        "\n",
        "    # if leaf, return value\n",
        "    if not isinstance(answer, dict):\n",
        "        return answer\n",
        "\n",
        "    # traverse recursively\n",
        "    return pred_obs(observation, answer)\n"
      ]
    },
    {
      "cell_type": "code",
      "execution_count": 18,
      "metadata": {
        "colab": {
          "base_uri": "https://localhost:8080/"
        },
        "id": "OvouLULU_tZu",
        "outputId": "da0720c4-a541-4ed5-dcb9-08d8d7fa0539"
      },
      "outputs": [
        {
          "name": "stdout",
          "output_type": "stream",
          "text": [
            "train accuracy: 0.848\n"
          ]
        }
      ],
      "source": [
        "# train accuracy\n",
        "\n",
        "num_obs = df.shape[0]\n",
        "preds = []\n",
        "for i in range(num_obs):\n",
        "    obs_pred = pred_obs(df.iloc[i,:], dt)\n",
        "    preds.append(obs_pred)\n",
        "\n",
        "acc = (np.array(preds) == df[\"is_obese\"]).mean()\n",
        "\n",
        "print(f\"train accuracy: {acc}\")"
      ]
    },
    {
      "cell_type": "code",
      "execution_count": null,
      "metadata": {
        "id": "EKaor7DN7OuZ"
      },
      "outputs": [],
      "source": []
    }
  ],
  "metadata": {
    "colab": {
      "provenance": [],
      "toc_visible": true
    },
    "kernelspec": {
      "display_name": "funml",
      "language": "python",
      "name": "python3"
    },
    "language_info": {
      "codemirror_mode": {
        "name": "ipython",
        "version": 3
      },
      "file_extension": ".py",
      "mimetype": "text/x-python",
      "name": "python",
      "nbconvert_exporter": "python",
      "pygments_lexer": "ipython3",
      "version": "3.9.15"
    },
    "vscode": {
      "interpreter": {
        "hash": "639992357d8c8f0f96951d239229b1a309b84dfb6b9853939157d0682ef002ad"
      }
    }
  },
  "nbformat": 4,
  "nbformat_minor": 0
}
